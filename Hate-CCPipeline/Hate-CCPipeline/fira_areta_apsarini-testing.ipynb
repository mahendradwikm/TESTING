{
 "cells": [
  {
   "cell_type": "code",
   "execution_count": 7,
   "metadata": {},
   "outputs": [],
   "source": [
    "import requests\n",
    "import tensorflow as tf\n",
    "import numpy as np\n",
    "import json\n",
    "import matplotlib.pyplot as plt\n",
    "import pandas as pd\n",
    "import base64"
   ]
  },
  {
   "cell_type": "code",
   "execution_count": 4,
   "metadata": {},
   "outputs": [
    {
     "data": {
      "text/html": [
       "<div>\n",
       "<style scoped>\n",
       "    .dataframe tbody tr th:only-of-type {\n",
       "        vertical-align: middle;\n",
       "    }\n",
       "\n",
       "    .dataframe tbody tr th {\n",
       "        vertical-align: top;\n",
       "    }\n",
       "\n",
       "    .dataframe thead th {\n",
       "        text-align: right;\n",
       "    }\n",
       "</style>\n",
       "<table border=\"1\" class=\"dataframe\">\n",
       "  <thead>\n",
       "    <tr style=\"text-align: right;\">\n",
       "      <th></th>\n",
       "      <th>text</th>\n",
       "      <th>recalled</th>\n",
       "    </tr>\n",
       "  </thead>\n",
       "  <tbody>\n",
       "    <tr>\n",
       "      <th>0</th>\n",
       "      <td>A few months ago I was in the tube sitting dow...</td>\n",
       "      <td>1</td>\n",
       "    </tr>\n",
       "    <tr>\n",
       "      <th>1</th>\n",
       "      <td>A man on the phone was rude to me when discuss...</td>\n",
       "      <td>1</td>\n",
       "    </tr>\n",
       "    <tr>\n",
       "      <th>2</th>\n",
       "      <td>A nightmare neighbour of mine used to repeated...</td>\n",
       "      <td>1</td>\n",
       "    </tr>\n",
       "    <tr>\n",
       "      <th>3</th>\n",
       "      <td>A stranger is calling me a bitch all of a sudd...</td>\n",
       "      <td>0</td>\n",
       "    </tr>\n",
       "    <tr>\n",
       "      <th>4</th>\n",
       "      <td>As a retired person i have plenty of time to b...</td>\n",
       "      <td>1</td>\n",
       "    </tr>\n",
       "    <tr>\n",
       "      <th>...</th>\n",
       "      <td>...</td>\n",
       "      <td>...</td>\n",
       "    </tr>\n",
       "    <tr>\n",
       "      <th>499</th>\n",
       "      <td>One of my best friends is extremely jealous of...</td>\n",
       "      <td>1</td>\n",
       "    </tr>\n",
       "    <tr>\n",
       "      <th>500</th>\n",
       "      <td>A work colleague of mine looks at me and tells...</td>\n",
       "      <td>1</td>\n",
       "    </tr>\n",
       "    <tr>\n",
       "      <th>501</th>\n",
       "      <td>Late one evening I give a lift to two of my fr...</td>\n",
       "      <td>1</td>\n",
       "    </tr>\n",
       "    <tr>\n",
       "      <th>502</th>\n",
       "      <td>A friend of mine's boyfriend once called me an...</td>\n",
       "      <td>1</td>\n",
       "    </tr>\n",
       "    <tr>\n",
       "      <th>503</th>\n",
       "      <td>One of the most unpleasant episodes that happe...</td>\n",
       "      <td>1</td>\n",
       "    </tr>\n",
       "  </tbody>\n",
       "</table>\n",
       "<p>504 rows × 2 columns</p>\n",
       "</div>"
      ],
      "text/plain": [
       "                                                  text  recalled\n",
       "0    A few months ago I was in the tube sitting dow...         1\n",
       "1    A man on the phone was rude to me when discuss...         1\n",
       "2    A nightmare neighbour of mine used to repeated...         1\n",
       "3    A stranger is calling me a bitch all of a sudd...         0\n",
       "4    As a retired person i have plenty of time to b...         1\n",
       "..                                                 ...       ...\n",
       "499  One of my best friends is extremely jealous of...         1\n",
       "500  A work colleague of mine looks at me and tells...         1\n",
       "501  Late one evening I give a lift to two of my fr...         1\n",
       "502  A friend of mine's boyfriend once called me an...         1\n",
       "503  One of the most unpleasant episodes that happe...         1\n",
       "\n",
       "[504 rows x 2 columns]"
      ]
     },
     "execution_count": 4,
     "metadata": {},
     "output_type": "execute_result"
    }
   ],
   "source": [
    "hate = pd.read_csv(\"data/hate.csv\")\n",
    "hate"
   ]
  },
  {
   "cell_type": "code",
   "execution_count": 9,
   "metadata": {},
   "outputs": [
    {
     "data": {
      "text/plain": [
       "'A stranger is calling me a bitch all of a sudden.I am doing my own thing whilst sitting at a bus stop.I feel awkward and upset for being called that.The stranger is sitting next to me looks at me in a hateful way.I get up and move to the end of the bus stop standing next to another person.I can still see the stranger looking at me which makes me feel awkward.I take my phone out of my bag and the stranger looks away.I think she wants attention and conflict.She wants me to react to her rudeness but i am not going to.'"
      ]
     },
     "execution_count": 9,
     "metadata": {},
     "output_type": "execute_result"
    }
   ],
   "source": [
    "text_test = hate['text'][3]\n",
    "\n",
    "text_test"
   ]
  },
  {
   "cell_type": "code",
   "execution_count": 11,
   "metadata": {},
   "outputs": [
    {
     "name": "stdout",
     "output_type": "stream",
     "text": [
      "Imagined\n"
     ]
    }
   ],
   "source": [
    "def prepare_input_json(text_input):\n",
    "    # Membuat spesifikasi fitur untuk input teks\n",
    "    feature_specification = {\n",
    "        \"text\": tf.train.Feature(bytes_list=tf.train.BytesList(value=[text_input.encode(\"utf-8\")]))\n",
    "    }\n",
    "    \n",
    "    # Membuat contoh TensorFlow dari spesifikasi fitur\n",
    "    serialized_example = tf.train.Example(\n",
    "        features=tf.train.Features(feature=feature_specification)\n",
    "    ).SerializeToString()\n",
    "    \n",
    "    # Mengonversi contoh yang diserialisasi ke format base64\n",
    "    encoded_example = base64.b64encode(serialized_example).decode()\n",
    "    \n",
    "    # Mengemas contoh yang diserialisasi dalam format JSON\n",
    "    request_payload = [\n",
    "        {\n",
    "            \"examples\": {\n",
    "                \"b64\": encoded_example\n",
    "            }\n",
    "        }\n",
    "    ]\n",
    "    \n",
    "    # Mengembalikan string JSON untuk digunakan dalam permintaan prediksi\n",
    "    return json.dumps({\n",
    "        \"signature_name\": \"serving_default\",\n",
    "        \"instances\": request_payload\n",
    "    })\n",
    "\n",
    "# Contoh teks untuk pengujian\n",
    "test_text = \"Text to be predict\"\n",
    "json_request = prepare_input_json(test_text)\n",
    "    \n",
    "# Endpoint untuk model TensorFlow Serving\n",
    "model_endpoint = \"http://localhost:8080/v1/models/hate-prediction-model:predict\"\n",
    "# Mengirim permintaan POST ke endpoint model dengan data JSON\n",
    "server_response = requests.post(model_endpoint, data=json_request)\n",
    "\n",
    "# Mendapatkan prediksi dari respon server\n",
    "predictions = server_response.json().get(\"predictions\")\n",
    "if predictions:\n",
    "    predicted_value = predictions[0][0]\n",
    "    # Menentukan hasil berdasarkan nilai prediksi\n",
    "    prediction_result = \"Recalled\" if prediction_value > 0.6 else \"Imagined\"\n",
    "else:\n",
    "    prediction_result = \"Error: No predictions found in response.\"\n",
    "\n",
    "print(prediction_result)\n"
   ]
  },
  {
   "cell_type": "markdown",
   "metadata": {},
   "source": [
    "Melakukan prediksi, jika hasil prediction value lebih dari 0.6 maka tergolong diingat, namun jika di bawah 0.6 maka tergolong tidak diingat"
   ]
  }
 ],
 "metadata": {
  "kernelspec": {
   "display_name": "Python 3.8.13 ('tfx_mlops')",
   "language": "python",
   "name": "python3"
  },
  "language_info": {
   "codemirror_mode": {
    "name": "ipython",
    "version": 3
   },
   "file_extension": ".py",
   "mimetype": "text/x-python",
   "name": "python",
   "nbconvert_exporter": "python",
   "pygments_lexer": "ipython3",
   "version": "3.9.15"
  },
  "orig_nbformat": 4,
  "vscode": {
   "interpreter": {
    "hash": "455335cfd909c56542285c78762a473177bc2f2ae50e7dcd1861467146f8b87f"
   }
  }
 },
 "nbformat": 4,
 "nbformat_minor": 2
}
